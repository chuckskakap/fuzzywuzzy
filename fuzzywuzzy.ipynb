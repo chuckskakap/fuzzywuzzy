{
 "cells": [
  {
   "cell_type": "code",
   "execution_count": null,
   "metadata": {},
   "outputs": [],
   "source": [
    "import os \n",
    "import pandas as pd\n",
    "import numpy as np\n",
    "from openpyxl import Workbook, load_workbook\n",
    "import itertools\n",
    "from thefuzz import fuzz, process\n",
    "\n",
    "df_ref = pd.read_excel('data/ex_development_certification_keywords_202301201519.xlsx')\n",
    "df_transaction = pd.read_excel('data/_select_distinct_egm_GRANT_ID_egm_GRANT_REF_NO_egm_GRANT_APPROVE_202301242150.xlsx')\n",
    "\n",
    "df_ref[\"Keywords\"] = df_ref[\"Keywords\"].str.split(\"/\", n = -1, expand = False)\n",
    "df_ref = df_ref.explode('Keywords') \n",
    "df_ref = df_ref.reset_index().drop(['index'], axis = 1) \n",
    "df_ref.to_excel('data/Keyword sliced.xlsx', index = 0)\n",
    "\n",
    "yop = process.extractBests('Agile', 'Agile Project')\n",
    "print(yop)\n",
    "\n",
    "#susunan tak betul\n",
    "yop2 = fuzz.token_sort_ratio('Management Process and Project Agile', 'Agile Project Management')\n",
    "print(yop2)"
   ]
  },
  {
   "cell_type": "code",
   "execution_count": null,
   "metadata": {},
   "outputs": [],
   "source": []
  }
 ],
 "metadata": {
  "language_info": {
   "name": "python"
  },
  "orig_nbformat": 4
 },
 "nbformat": 4,
 "nbformat_minor": 2
}
